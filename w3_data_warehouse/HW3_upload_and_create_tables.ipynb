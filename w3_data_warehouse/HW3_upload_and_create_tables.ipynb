{
 "cells": [
  {
   "cell_type": "code",
   "execution_count": 21,
   "id": "27f64adf-d9e4-428d-8cef-4d273fa5e7c4",
   "metadata": {},
   "outputs": [],
   "source": [
    "import io\n",
    "import os\n",
    "import requests\n",
    "import pandas as pd\n",
    "from google.cloud import storage\n",
    "from google.cloud import bigquery"
   ]
  },
  {
   "cell_type": "markdown",
   "id": "ace46b77-5d1a-48c0-828e-76ccff3becc0",
   "metadata": {},
   "source": [
    "# 1. Upload data to GCS"
   ]
  },
  {
   "cell_type": "code",
   "execution_count": null,
   "id": "782a45e2-def5-4f1b-a83e-eb8b874d7f4c",
   "metadata": {},
   "outputs": [],
   "source": [
    "\"\"\"\n",
    "Pre-reqs: \n",
    "1. `pip install pandas pyarrow google-cloud-storage`\n",
    "2. Set GOOGLE_APPLICATION_CREDENTIALS to your project/service-account key\n",
    "3. Set GCP_GCS_BUCKET as your bucket or change default value of BUCKET\n",
    "\"\"\""
   ]
  },
  {
   "cell_type": "code",
   "execution_count": 15,
   "id": "134d856d-f58a-4af3-9cc0-e012d61ceb06",
   "metadata": {},
   "outputs": [],
   "source": [
    "# services = ['fhv','green','yellow']\n",
    "init_url = 'https://d37ci6vzurychx.cloudfront.net/trip-data'\n",
    "# switch out the bucketname\n",
    "os.environ[\"GOOGLE_APPLICATION_CREDENTIALS\"]=\"terrademo/keys/my-creds.json\"\n",
    "BUCKET = os.environ.get(\"GCP_GCS_BUCKET\", \"mage-zoomcamp-nb\")"
   ]
  },
  {
   "cell_type": "code",
   "execution_count": 17,
   "id": "1633706d-ff2c-49ef-a243-9b8d6a312500",
   "metadata": {},
   "outputs": [
    {
     "name": "stdout",
     "output_type": "stream",
     "text": [
      "Local: green_tripdata_2022-01.parquet\n",
      "GCS: green/green_tripdata_2022-01.parquet\n",
      "Local: green_tripdata_2022-02.parquet\n",
      "GCS: green/green_tripdata_2022-02.parquet\n",
      "Local: green_tripdata_2022-03.parquet\n",
      "GCS: green/green_tripdata_2022-03.parquet\n",
      "Local: green_tripdata_2022-04.parquet\n",
      "GCS: green/green_tripdata_2022-04.parquet\n",
      "Local: green_tripdata_2022-05.parquet\n",
      "GCS: green/green_tripdata_2022-05.parquet\n",
      "Local: green_tripdata_2022-06.parquet\n",
      "GCS: green/green_tripdata_2022-06.parquet\n",
      "Local: green_tripdata_2022-07.parquet\n",
      "GCS: green/green_tripdata_2022-07.parquet\n",
      "Local: green_tripdata_2022-08.parquet\n",
      "GCS: green/green_tripdata_2022-08.parquet\n",
      "Local: green_tripdata_2022-09.parquet\n",
      "GCS: green/green_tripdata_2022-09.parquet\n",
      "Local: green_tripdata_2022-10.parquet\n",
      "GCS: green/green_tripdata_2022-10.parquet\n",
      "Local: green_tripdata_2022-11.parquet\n",
      "GCS: green/green_tripdata_2022-11.parquet\n",
      "Local: green_tripdata_2022-12.parquet\n",
      "GCS: green/green_tripdata_2022-12.parquet\n"
     ]
    }
   ],
   "source": [
    "def upload_to_gcs(bucket, object_name, local_file):\n",
    "    \"\"\"\n",
    "    Ref: https://cloud.google.com/storage/docs/uploading-objects#storage-upload-object-python\n",
    "    \"\"\"\n",
    "    # # WORKAROUND to prevent timeout for files > 6 MB on 800 kbps upload speed.\n",
    "    # # (Ref: https://github.com/googleapis/python-storage/issues/74)\n",
    "    # storage.blob._MAX_MULTIPART_SIZE = 5 * 1024 * 1024  # 5 MB\n",
    "    # storage.blob._DEFAULT_CHUNKSIZE = 5 * 1024 * 1024  # 5 MB\n",
    "\n",
    "    client = storage.Client()\n",
    "    bucket = client.bucket(bucket)\n",
    "    blob = bucket.blob(object_name)\n",
    "    blob.upload_from_filename(local_file)\n",
    "\n",
    "\n",
    "def web_to_gcs(year, service):\n",
    "    \n",
    "    for i in range(12):\n",
    "        \n",
    "        # sets the month part of the file_name string\n",
    "        month = '0'+str(i+1)\n",
    "        month = month[-2:]\n",
    "        \n",
    "        # csv file_name\n",
    "        file_name = f\"{service}_tripdata_{year}-{month}.parquet\"\n",
    "\n",
    "        # download it using requests via a pandas df\n",
    "        request_url = f\"{init_url}/{file_name}\"\n",
    "        r = requests.get(request_url)\n",
    "        open(file_name, 'wb').write(r.content)  \n",
    "        print(f\"Local: {file_name}\")\n",
    "\n",
    "        if os.path.exists(f\"{file_name}\"):\n",
    "            os.remove(f\"{file_name}\")\n",
    "\n",
    "        # upload it to gcs \n",
    "        upload_to_gcs(BUCKET, f\"{service}/{file_name}\", file_name)\n",
    "        print(f\"GCS: {service}/{file_name}\")\n",
    "\n",
    "\n",
    "web_to_gcs('2022', 'green')"
   ]
  },
  {
   "cell_type": "code",
   "execution_count": 24,
   "id": "dd612a8c-cf60-40c1-b037-45fa5de8dd81",
   "metadata": {},
   "outputs": [],
   "source": [
    "uris = []\n",
    "\n",
    "for i in range(12):\n",
    "    month = '0'+str(i+1)\n",
    "    month = month[-2:]\n",
    "    \n",
    "    uris.append(f\"gs://mage-zoomcamp-nb/green/green_tripdata_2022-{month}.parquet\")"
   ]
  },
  {
   "cell_type": "markdown",
   "id": "1c5ea14c-b57d-4673-b250-480af3ad909d",
   "metadata": {},
   "source": [
    "# 2. Upload data to BigQuery (create table) "
   ]
  },
  {
   "cell_type": "code",
   "execution_count": 23,
   "id": "f6eb76a9-27ab-4ae7-8b6b-1bbc619673c4",
   "metadata": {},
   "outputs": [
    {
     "name": "stdout",
     "output_type": "stream",
     "text": [
      "Loaded 840402 rows.\n"
     ]
    }
   ],
   "source": [
    "# Construct a BigQuery client object.\n",
    "client = bigquery.Client()\n",
    "\n",
    "# TODO(developer): Set table_id to the ID of the table to create.\n",
    "table_id = \"terraform-course-411914.taxi.green_taxi_2022\"\n",
    "\n",
    "job_config = bigquery.LoadJobConfig(\n",
    "    source_format=bigquery.SourceFormat.PARQUET,\n",
    ")\n",
    "\n",
    "load_job = client.load_table_from_uri(\n",
    "    uris, table_id, job_config=job_config\n",
    ")  # Make an API request.\n",
    "\n",
    "load_job.result()  # Waits for the job to complete.\n",
    "\n",
    "destination_table = client.get_table(table_id)\n",
    "print(\"Loaded {} rows.\".format(destination_table.num_rows))"
   ]
  },
  {
   "cell_type": "markdown",
   "id": "d1fe5fb0-e224-47f5-9492-e4633ed19a92",
   "metadata": {},
   "source": [
    "# 3. Create External table in BigQuery (create table) "
   ]
  },
  {
   "cell_type": "code",
   "execution_count": 25,
   "id": "e658ba99-2597-4f36-9753-5752b4891f00",
   "metadata": {},
   "outputs": [
    {
     "name": "stdout",
     "output_type": "stream",
     "text": [
      "Created table with external source format PARQUET\n"
     ]
    }
   ],
   "source": [
    "# Construct a BigQuery client object.\n",
    "client = bigquery.Client()\n",
    "\n",
    "# TODO(developer): Set table_id to the ID of the table to create.\n",
    "table_id = \"terraform-course-411914.taxi.green_taxi_2022_ext\"\n",
    "\n",
    "# TODO(developer): Set the external source format of your table.\n",
    "# Note that the set of allowed values for external data sources is\n",
    "# different than the set used for loading data (see :class:`~google.cloud.bigquery.job.SourceFormat`).\n",
    "external_source_format = \"PARQUET\"\n",
    "\n",
    "# Create ExternalConfig object with external source format\n",
    "external_config = bigquery.ExternalConfig(external_source_format)\n",
    "# Set source_uris that point to your data in Google Cloud\n",
    "external_config.source_uris = uris\n",
    "\n",
    "# TODO(developer) You have the option to set a reference_file_schema_uri, which points to\n",
    "# a reference file for the table schema\n",
    "reference_file_schema_uri = \"gs://mage-zoomcamp-nb/green/green_tripdata_2022-01.parquet\"\n",
    "\n",
    "external_config.reference_file_schema_uri = reference_file_schema_uri\n",
    "\n",
    "table = bigquery.Table(table_id)\n",
    "# Set the external data configuration of the table\n",
    "table.external_data_configuration = external_config\n",
    "table = client.create_table(table)  # Make an API request.\n",
    "\n",
    "print(\n",
    "    f\"Created table with external source format {table.external_data_configuration.source_format}\"\n",
    ")"
   ]
  }
 ],
 "metadata": {
  "kernelspec": {
   "display_name": "Python 3 (ipykernel)",
   "language": "python",
   "name": "python3"
  },
  "language_info": {
   "codemirror_mode": {
    "name": "ipython",
    "version": 3
   },
   "file_extension": ".py",
   "mimetype": "text/x-python",
   "name": "python",
   "nbconvert_exporter": "python",
   "pygments_lexer": "ipython3",
   "version": "3.11.5"
  }
 },
 "nbformat": 4,
 "nbformat_minor": 5
}
